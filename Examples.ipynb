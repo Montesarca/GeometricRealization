{
 "cells": [
  {
   "cell_type": "code",
   "execution_count": 11,
   "metadata": {},
   "outputs": [],
   "source": [
    "%run BOS.ipynb\n",
    "%run ToricFunctions.ipynb\n",
    "%run EffectiveConePlot.ipynb"
   ]
  },
  {
   "cell_type": "code",
   "execution_count": 12,
   "metadata": {},
   "outputs": [],
   "source": [
    "########################################\n",
    "########  Example in Section 4.2 #######\n",
    "######################################## "
   ]
  },
  {
   "cell_type": "code",
   "execution_count": 13,
   "metadata": {},
   "outputs": [],
   "source": [
    "######## Fano fourfold G1 ##########\n",
    "PR=[[1,0,0,0,0,0,1],[-1,1,1,1,0,0,0],[-2,0,0,1,1,1,0],[0,-1,-1,0,1,1,1],[1,1,1,0,-1,-1,0]]\n",
    "Y=toric_from_pr(PR)"
   ]
  },
  {
   "cell_type": "code",
   "execution_count": 14,
   "metadata": {},
   "outputs": [],
   "source": [
    "A1=vector([1,0,0,0,0,2,1])\n",
    "B1=vector([1,2,0,0,0,0,1])\n",
    "A2=vector([1,0,0,0,0,6,1])\n",
    "B2=vector([1,6,0,0,0,0,1])\n",
    "D=vector([1,0,1,4,1,6,1])\n",
    "\n",
    "pA1=plotdivisor(Y,A1,color='red',name='A1')\n",
    "pB1=plotdivisor(Y,B1,color='red',name='B1')\n",
    "pA2=plotdivisor(Y,A2,color='green',name='A2')\n",
    "pB2=plotdivisor(Y,B2,color='green',name='B2')"
   ]
  },
  {
   "cell_type": "code",
   "execution_count": 15,
   "metadata": {},
   "outputs": [
    {
     "data": {
      "image/png": "[encoded data removed]",
      "text/plain": [
       "Graphics object consisting of 24 graphics primitives"
      ]
     },
     "metadata": {},
     "output_type": "display_data"
    }
   ],
   "source": [
    "show(showeff(Y)+pA1+pB1+pA2+pB2,axes=false)"
   ]
  },
  {
   "cell_type": "code",
   "execution_count": 16,
   "metadata": {},
   "outputs": [
    {
     "name": "stdout",
     "output_type": "stream",
     "text": [
      "The criticality of the action is 3\n",
      "The weights are [0, 4, 9, 12]\n",
      "The polytopes of fixed point components have [8, 1, 1, 8] vertices\n",
      "The quotient GX_0 is a 4-dimensional polytope with 8 vertices and Picard number 2\n",
      "The quotient GX_1 is a 4-dimensional polytope with 9 vertices and Picard number 2\n",
      "The quotient GX_2 is a 4-dimensional polytope with 8 vertices and Picard number 2\n",
      "The map GX_0 --> GX_1 is a flip\n",
      "The map GX_1 --> GX_2 is a flip\n",
      "The variety is complete, is Q-factorial, is not smooth, is Fano\n",
      "The Picard number is 3\n"
     ]
    }
   ],
   "source": [
    "G1=geometric_realization(Y,A1,B1)\n",
    "action_info(G1)"
   ]
  },
  {
   "cell_type": "code",
   "execution_count": 17,
   "metadata": {},
   "outputs": [],
   "source": [
    "G2=geometric_realization(Y,A2,B2)"
   ]
  },
  {
   "cell_type": "code",
   "execution_count": 18,
   "metadata": {},
   "outputs": [
    {
     "name": "stdout",
     "output_type": "stream",
     "text": [
      "The criticality of the action is 5\n",
      "The weights are [0, 2, 5, 7, 8, 12]\n",
      "The polytopes of fixed point components have [8, 2, 1, 1, 2, 8] vertices\n",
      "The quotient GX_0 is a 4-dimensional polytope with 8 vertices and Picard number 2\n",
      "The quotient GX_1 is a 4-dimensional polytope with 12 vertices and Picard number 3\n",
      "The quotient GX_2 is a 4-dimensional polytope with 13 vertices and Picard number 3\n",
      "The quotient GX_3 is a 4-dimensional polytope with 12 vertices and Picard number 3\n",
      "The quotient GX_4 is a 4-dimensional polytope with 8 vertices and Picard number 2\n",
      "The map GX_0 --> GX_1 is a divisorial extraction\n",
      "The map GX_1 --> GX_2 is a flip\n",
      "The map GX_2 --> GX_3 is a flip\n",
      "The map GX_3 --> GX_4 is a divisorial contraction\n",
      "The variety is complete, is Q-factorial, is not smooth, is not Fano\n",
      "The Picard number is 4\n"
     ]
    }
   ],
   "source": [
    "action_info(G2)"
   ]
  },
  {
   "cell_type": "code",
   "execution_count": 19,
   "metadata": {},
   "outputs": [],
   "source": [
    "K=vector([1,1,1,1,1,1,1])\n",
    "H=vector([1,0,1,0,-1,0,0])\n",
    "pK=plotdivisor(Y,K,color='red',name='-K')\n",
    "pD1=plotdivisor(Y,K+H,color='green',name='-K+H')\n",
    "pD2=plotdivisor(Y,K-H,color='green',name='-K -H')"
   ]
  },
  {
   "cell_type": "code",
   "execution_count": 20,
   "metadata": {},
   "outputs": [
    {
     "data": {
      "image/png": "[encoded data removed]",
      "text/plain": [
       "Graphics object consisting of 22 graphics primitives"
      ]
     },
     "metadata": {},
     "output_type": "display_data"
    }
   ],
   "source": [
    "show(showeff(Y)+pK+pD1+pD2,axes=false)"
   ]
  },
  {
   "cell_type": "code",
   "execution_count": 21,
   "metadata": {},
   "outputs": [],
   "source": [
    "F=Fano_realization(Y,H)"
   ]
  },
  {
   "cell_type": "code",
   "execution_count": 22,
   "metadata": {},
   "outputs": [
    {
     "name": "stdout",
     "output_type": "stream",
     "text": [
      "The criticality of the action is 4\n",
      "The weights are [-12, -1, 7, 9, 12]\n",
      "The polytopes of fixed point components have [12, 1, 2, 1, 8] vertices\n",
      "The quotient GX_0 is a 4-dimensional polytope with 12 vertices and Picard number 3\n",
      "The quotient GX_1 is a 4-dimensional polytope with 13 vertices and Picard number 3\n",
      "The quotient GX_2 is a 4-dimensional polytope with 9 vertices and Picard number 2\n",
      "The quotient GX_3 is a 4-dimensional polytope with 8 vertices and Picard number 2\n",
      "The map GX_0 --> GX_1 is a flip\n",
      "The map GX_1 --> GX_2 is a divisorial contraction\n",
      "The map GX_2 --> GX_3 is a flip\n",
      "The variety is complete, is Q-factorial, is not smooth, is Fano\n",
      "The Picard number is 4\n"
     ]
    }
   ],
   "source": [
    "action_info(F)"
   ]
  },
  {
   "cell_type": "code",
   "execution_count": 13,
   "metadata": {},
   "outputs": [],
   "source": [
    "########################################\n",
    "########  Example in Section 5.2 #######\n",
    "########################################"
   ]
  },
  {
   "cell_type": "code",
   "execution_count": 23,
   "metadata": {},
   "outputs": [],
   "source": [
    "## P(O(0,1,1)) on P2 ##\n",
    "\n",
    "P2 = toric_varieties.P2()\n",
    "M = matrix([[0,0,0],[0,0,1],[0,0,1]])\n",
    "Y = projective_bundle(P2,M)"
   ]
  },
  {
   "cell_type": "code",
   "execution_count": 24,
   "metadata": {},
   "outputs": [
    {
     "data": {
      "text/plain": [
       "N(-1, -1,  1,  1),\n",
       "N( 0,  0, -1, -1),\n",
       "N( 0,  0,  0,  1),\n",
       "N( 0,  0,  1,  0),\n",
       "N( 0,  1,  0,  0),\n",
       "N( 1,  0,  0,  0)\n",
       "in 4-d lattice N"
      ]
     },
     "execution_count": 24,
     "metadata": {},
     "output_type": "execute_result"
    }
   ],
   "source": [
    "Y.fan().rays()"
   ]
  },
  {
   "cell_type": "code",
   "execution_count": 29,
   "metadata": {},
   "outputs": [
    {
     "data": {
      "text/plain": [
       "[Divisor class [1, 0],\n",
       " Divisor class [0, 1],\n",
       " Divisor class [-1, 1],\n",
       " Divisor class [-1, 1],\n",
       " Divisor class [1, 0],\n",
       " Divisor class [1, 0]]"
      ]
     },
     "execution_count": 29,
     "metadata": {},
     "output_type": "execute_result"
    }
   ],
   "source": [
    "invariant_in_pic(Y)"
   ]
  },
  {
   "cell_type": "code",
   "execution_count": 26,
   "metadata": {},
   "outputs": [
    {
     "data": {
      "text/plain": [
       "Divisor class [-1, 1],\n",
       "Divisor class [ 1, 0]\n",
       "in Basis lattice of The toric rational divisor class group of a 4-d toric variety covered by 9 affine patches"
      ]
     },
     "execution_count": 26,
     "metadata": {},
     "output_type": "execute_result"
    }
   ],
   "source": [
    "eff_cone(Y).rays()"
   ]
  },
  {
   "cell_type": "code",
   "execution_count": 30,
   "metadata": {},
   "outputs": [
    {
     "data": {
      "text/plain": [
       "Divisor class [1, 0],\n",
       "Divisor class [0, 1]\n",
       "in Basis lattice of The toric rational divisor class group of a 4-d toric variety covered by 9 affine patches"
      ]
     },
     "execution_count": 30,
     "metadata": {},
     "output_type": "execute_result"
    }
   ],
   "source": [
    "nef_cone(Y).rays()"
   ]
  },
  {
   "cell_type": "code",
   "execution_count": 33,
   "metadata": {},
   "outputs": [],
   "source": [
    "A = vector([2,2,0,0,0,0]) \n",
    "B = vector([-1,2,0,0,0,0]) \n",
    "C = vector([-2,2,0,0,0,0])"
   ]
  },
  {
   "cell_type": "code",
   "execution_count": 34,
   "metadata": {},
   "outputs": [
    {
     "name": "stdout",
     "output_type": "stream",
     "text": [
      "The criticality of the action is 2\n",
      "The weights are [0, 2, 3]\n",
      "The polytopes of fixed point components have [9, 1, 8] vertices\n",
      "The quotient GX_0 is a 4-dimensional polytope with 9 vertices and Picard number 2\n",
      "The quotient GX_1 is a 4-dimensional polytope with 8 vertices and Picard number 2\n",
      "The map GX_0 --> GX_1 is a flip\n",
      "The variety is complete, is Q-factorial, is smooth, is not Fano\n",
      "The Picard number is 3\n"
     ]
    }
   ],
   "source": [
    "X=geometric_realization(Y,A,B,3)\n",
    "action_info(X)"
   ]
  },
  {
   "cell_type": "code",
   "execution_count": 35,
   "metadata": {},
   "outputs": [
    {
     "name": "stdout",
     "output_type": "stream",
     "text": [
      "The criticality of the action is 2\n",
      "The weights are [0, 2, 4]\n",
      "The polytopes of fixed point components have [9, 1, 2] vertices\n",
      "The quotient GX_0 is a 4-dimensional polytope with 9 vertices and Picard number 2\n",
      "The quotient GX_1 is a 4-dimensional polytope with 8 vertices and Picard number 2\n",
      "The map GX_0 --> GX_1 is a flip\n",
      "The variety is complete, is Q-factorial, is smooth, is Fano\n",
      "The Picard number is 2\n"
     ]
    }
   ],
   "source": [
    "X=geometric_realization(Y,A,C,4)\n",
    "action_info(X)"
   ]
  },
  {
   "cell_type": "code",
   "execution_count": null,
   "metadata": {},
   "outputs": [],
   "source": []
  }
 ],
 "metadata": {
  "kernelspec": {
   "display_name": "SageMath 10.5",
   "language": "sage",
   "name": "sagemath-10.5"
  },
  "language_info": {
   "codemirror_mode": {
    "name": "ipython",
    "version": 3
   },
   "file_extension": ".py",
   "mimetype": "text/x-python",
   "name": "python",
   "nbconvert_exporter": "python",
   "pygments_lexer": "ipython3",
   "version": "3.12.5"
  }
 },
 "nbformat": 4,
 "nbformat_minor": 4
}
